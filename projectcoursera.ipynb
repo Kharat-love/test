{
 "cells": [
  {
   "cell_type": "markdown",
   "metadata": {
    "collapsed": false
   },
   "source": [
    "# \"My Jupyter Notebook on IBM Data Science Experience\""
   ]
  },
  {
   "cell_type": "markdown",
   "metadata": {
    "collapsed": false
   },
   "source": [
    "###### Name : Lavhraj Shrimant Kharat\n",
    "occupation : Student"
   ]
  },
  {
   "cell_type": "markdown",
   "metadata": {
    "collapsed": false
   },
   "source": [
    "*I am interested in data science because I love to play with Data*"
   ]
  },
  {
   "cell_type": "markdown",
   "metadata": {
    "collapsed": false
   },
   "source": [
    "### Here 1+1=2,addition of two numbers"
   ]
  },
  {
   "cell_type": "code",
   "execution_count": 1,
   "metadata": {
    "collapsed": false
   },
   "outputs": [
    {
     "data": {
      "text/plain": [
       "2"
      ]
     },
     "execution_count": 1,
     "metadata": {
     },
     "output_type": "execute_result"
    }
   ],
   "source": [
    "1+1"
   ]
  },
  {
   "cell_type": "markdown",
   "metadata": {
    "collapsed": false
   },
   "source": [
    "horizontal rule:   <hr>\n",
    "bulleted lists:\n",
    "<ul>\n",
    "<li>text</li>\n",
    "<li>text</li>\n",
    "<li>text</li>\n",
    "</ul>\n",
    "\n",
    "\n",
    "hyperlinks:<a href=\"url\">link text</a>"
   ]
  },
  {
   "cell_type": "markdown",
   "metadata": {
    "collapsed": false
   },
   "source": [
   ]
  }
 ],
 "metadata": {
  "kernelspec": {
   "display_name": "Python 3 (Anaconda 5)",
   "env": {
    "LD_LIBRARY_PATH": "/ext/anaconda5/lib",
    "PROJ_LIB": "/ext/anaconda-2019.03/share/proj",
    "PYTHONHOME": "/ext/anaconda5/lib/python3.5",
    "PYTHONPATH": "/ext/anaconda5/lib/python3.5:/ext/anaconda5/lib/python3.5/site-packages"
   },
   "language": "python",
   "metadata": {
    "cocalc": {
     "description": "Python/R distribution for data science",
     "priority": -1,
     "url": "https://www.anaconda.com/distribution/"
    }
   },
   "name": "anaconda5"
  },
  "language_info": {
   "codemirror_mode": {
    "name": "ipython",
    "version": 3
   },
   "file_extension": ".py",
   "mimetype": "text/x-python",
   "name": "python",
   "nbconvert_exporter": "python",
   "pygments_lexer": "ipython3",
   "version": "3.6.7"
  }
 },
 "nbformat": 4,
 "nbformat_minor": 0
}